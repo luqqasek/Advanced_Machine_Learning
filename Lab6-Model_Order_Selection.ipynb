{
 "cells": [
  {
   "cell_type": "markdown",
   "metadata": {},
   "source": [
    "# Lab Model order selection\n",
    "\n",
    "The goal of this lab session is to study different model order selection methods. You will send only one notebook for both parts.\n",
    "\n",
    "\n",
    "We begin with the standard imports:"
   ]
  },
  {
   "cell_type": "code",
   "execution_count": 1,
   "metadata": {},
   "outputs": [],
   "source": [
    "import numpy as np\n",
    "import matplotlib.pyplot as plt\n",
    "import seaborn as sns\n",
    "from matplotlib.pyplot import figure\n",
    "%matplotlib inline\n",
    "sns.set_context('poster')\n",
    "sns.set_color_codes()\n",
    "plot_kwds = {'alpha' : 0.25, 's' : 80, 'linewidths':0}"
   ]
  },
  {
   "cell_type": "markdown",
   "metadata": {},
   "source": [
    "# Disclaimer:\n",
    "\n",
    "AIC formula given during lecture has slightly different form that the one proposed in original paper (https://sci-hub.se/https://ieeexplore.ieee.org/document/1100705) (Akaike, 1974). Eventhough that the conclusions would be the same for both of formulas, to avoid confusion we will use formula from original paper. The difference between these two formulas is that original one is scaled by factor -2 compared to the one introduced during lecture. Therefore we want to maximize the criterion given during lecture while in this lab we will try to minimize AIC. "
   ]
  },
  {
   "cell_type": "markdown",
   "metadata": {},
   "source": [
    "## Theoretical questions "
   ]
  },
  {
   "cell_type": "markdown",
   "metadata": {},
   "source": [
    "What is the expression of the AIC and BIC for a dataset $\\{X_1,...X_n \\}$ modeled with a GMM with $k$ mixtures after EM algorithm."
   ]
  },
  {
   "cell_type": "markdown",
   "metadata": {},
   "source": [
    "#### AIC"
   ]
  },
  {
   "cell_type": "markdown",
   "metadata": {},
   "source": [
    "AIC formula based on https://en.wikipedia.org/wiki/Akaike_information_criterion and original paper\n",
    "$$\n",
    "\\mathrm{AIC}=2 k-2 \\ln (\\hat{L})\n",
    "$$\n",
    "where $k$ is the number of estimated parameters and $\\ln (\\hat{L})$ is the maximum of log-likelihood function for dataset $\\{X_1,...X_n \\}$"
   ]
  },
  {
   "cell_type": "markdown",
   "metadata": {},
   "source": [
    "In case of GMM model with $K$ $d$-dimensional components:\n",
    "$$k=K-1+d K+\\frac{K d(d+1)}{2}$$\n"
   ]
  },
  {
   "cell_type": "markdown",
   "metadata": {},
   "source": [
    "where \n",
    "- K-1 comes from weights of mixture distribiution (since they sum to 1, it is enough to learn K-1)\n",
    "- dK comes from K d-dimensional mean vectors\n",
    "- last component of sum comes from covariance matrix (since it is symetric we only need to learn lower triangle / upper triangle with diagonal)."
   ]
  },
  {
   "cell_type": "markdown",
   "metadata": {},
   "source": [
    "The log-likelihood function is equal to\n",
    "$$\n",
    "\\ln (\\hat{L})=\\sum_{i=1}^{n} \\log\\left( \\sum_{m=1}^{K} \\alpha_m \\phi(x_i|\\mu_m,\\Sigma_m)\\right)\n",
    "$$"
   ]
  },
  {
   "cell_type": "markdown",
   "metadata": {},
   "source": [
    "where:\n",
    "- $\\alpha_m$ is a weight of $m$-th gaussian distribiution \n",
    "- $\\mu_m$ is a mean vector of $m$-th gaussian distribiution\n",
    "- $\\sigma_m$ is a covariance matrix of $m$-th gaussian distribiution\n",
    "- whole expression $\\sum_{m=1}^{K} \\alpha_m \\phi(x_i|\\mu_m,\\Sigma_m)$ is a density estimate of a gaussian mixture model density in point $x_i$"
   ]
  },
  {
   "cell_type": "markdown",
   "metadata": {},
   "source": [
    "It is worth to highlight the fact that we have coefficients $\\alpha_m$ estimated thanks to EM algorithm therefore we dont have to introduce latent variables to express log-likelihood"
   ]
  },
  {
   "cell_type": "markdown",
   "metadata": {},
   "source": [
    "Finally we can get AIC formula as:\n",
    "$$\n",
    "AIC = 2\\cdot ( K-1+d K+\\frac{K d(d+1)}{2} ) - 2 \\cdot ( \\sum_{i=1}^{n} \\log\\left( \\sum_{m=1}^{K} \\alpha_m \\phi(x_i|\\mu_m,\\Sigma_m)\\right) )\n",
    "$$"
   ]
  },
  {
   "cell_type": "markdown",
   "metadata": {},
   "source": [
    "#### BIC"
   ]
  },
  {
   "cell_type": "markdown",
   "metadata": {},
   "source": [
    "Once again there are different approaches to calculate BIC. However the differences don't change results while comparing models as they differ by factor / sign. We will us formula cited on Wikipedia https://en.wikipedia.org/wiki/Bayesian_information_criterion."
   ]
  },
  {
   "cell_type": "markdown",
   "metadata": {},
   "source": [
    "$$\n",
    "\\mathrm{AIC}= k \\ln(n) - 2 \\cdot \\ln (\\hat{L})\n",
    "$$"
   ]
  },
  {
   "cell_type": "markdown",
   "metadata": {},
   "source": [
    "In previous cells we already calculated $\\ln (\\hat{L})$ a and $k$. $n$ is number of observations. Therefore the BIC formula is equal to: \n",
    "$$\n",
    "BIC = \\ln(n)\\cdot ( K-1+d K+\\frac{K d(d+1)}{2} ) - 2 \\cdot ( \\sum_{i=1}^{n} \\log\\left( \\sum_{m=1}^{K} \\alpha_m \\phi(x_i|\\mu_m,\\Sigma_m)\\right) )\n",
    "$$"
   ]
  },
  {
   "cell_type": "markdown",
   "metadata": {},
   "source": [
    "________________________________________________________________________"
   ]
  },
  {
   "cell_type": "markdown",
   "metadata": {},
   "source": [
    "What is the expression of the AIC and BIC for a dataset $\\mathcal{X} =\\{(X_1,Y_1),...(X_n,Y_n) \\}$ modeled with a Logistic Regression after its training on $\\mathcal{X}$. Suppose we have 2 labels and X has p features"
   ]
  },
  {
   "cell_type": "markdown",
   "metadata": {},
   "source": [
    "#### AIC"
   ]
  },
  {
   "cell_type": "markdown",
   "metadata": {},
   "source": [
    "Repeating computations from Lab 3:\n",
    "The likelikehood function is equal to:\n",
    "$$\n",
    "\\hat{L}=\\prod_{i=1}^n p\\left(x_i\\right)_i^y \\cdot\\left(1-p\\left(x_i\\right)\\right)^{1-y_i}\n",
    "$$\n",
    "where $p\\left(x_i\\right)$ equals to probability that observation $x_i$ has label 1 .\n",
    "$$\n",
    "p\\left(x_i\\right)=\\frac{1}{1+e^{-\\left(X^1 \\rho_1+\\ldots X^p \\rho_p\\right)}}\n",
    "$$\n",
    "Therefore the log-likelihood is equal to:\n",
    "$$\n",
    "\\begin{aligned}\n",
    "& \\ln (\\hat{L})=\\sum_{i=1}^n y_i \\cdot \\log \\left(p\\left(x_i\\right)+y_i \\cdot\\left(1-y_i\\right) \\cdot \\log \\left(1-p\\left(x_i\\right)\\right) \\Longleftrightarrow\\right. \\\\\n",
    "& \\ln (\\hat{L})=\\sum_{i=1}^n y_i \\cdot \\langle X^i,\\beta \\rangle + \\log(\\frac{1}{1+e^{\\langle X^i,\\beta \\rangle}})\n",
    "\\end{aligned}\n",
    "$$\n",
    "where\n",
    "- $X^i$ is a $i^{t h}$ observation therefore vector of size $(1, p), p$-number of features.\n",
    "- $\\beta$ is a vector of model parameters of size $(1, p)$\n",
    "- $n$ is a number of observations\n"
   ]
  },
  {
   "cell_type": "markdown",
   "metadata": {},
   "source": [
    "Number of estimated parameters is equal to:\n",
    "$$\n",
    "k = p = \\text{ size of } \\beta\n",
    "$$"
   ]
  },
  {
   "cell_type": "markdown",
   "metadata": {},
   "source": [
    "Finally we can get AIC formula as:\n",
    "$$\n",
    "AIC = 2 \\cdot p - 2 \\cdot \\sum_{i=1}^n y_i \\cdot \\langle X^i,\\beta \\rangle + \\log(\\frac{1}{1+e^{\\langle X^i,\\beta \\rangle}})\n",
    "$$"
   ]
  },
  {
   "cell_type": "markdown",
   "metadata": {},
   "source": [
    "#### BIC"
   ]
  },
  {
   "cell_type": "markdown",
   "metadata": {},
   "source": [
    "In previous cells we already calculated $\\ln (\\hat{L})$ a and $k$. $n$ is number of observations. Therefore the BIC formula cited before and substituted with these values is equal to: \n",
    "$$\n",
    "BIC = \\ln(n) \\cdot p - 2 \\cdot \\sum_{i=1}^n y_i \\cdot \\langle X^i,\\beta \\rangle + \\log(\\frac{1}{1+e^{\\langle X^i,\\beta \\rangle}})\n",
    "$$"
   ]
  },
  {
   "cell_type": "markdown",
   "metadata": {},
   "source": [
    "________________________________________________________________________"
   ]
  },
  {
   "cell_type": "markdown",
   "metadata": {
    "collapsed": true
   },
   "source": [
    "#### Explain briefly the concept of K-fold cross validation. "
   ]
  },
  {
   "cell_type": "markdown",
   "metadata": {
    "collapsed": true
   },
   "source": [
    "K-fold cross validation is a method that divides the learning set into k equal in size, disjoint subsets, of which k-1 are used for model learning/adaptation and 1 subset is used for model validation. It is used to determine the quality of the model in order to eliminate the problem of overfitting. Each of subsets, one by one, is taken as a test set and the others together as a training set. After training the analysis is performed on the test set (the analysis is thus performed k times). The k results obtained are combined (e.g. averaged) to produce a single result. E.g in order to obtain estimation of accuracy of a model on unseen data we can't train it on whole data and compute accuracy as whole dataset was used in training, therefore estimation of accuracy will be likely higher than in reality. We perform cross validation so, train model k times using 1-1/k % observations and evalutae accuracy on data not used in training. We obtain k accuracies on unseen data that can be later analyised by looking at e.g average or average+standard deviation."
   ]
  },
  {
   "cell_type": "markdown",
   "metadata": {},
   "source": [
    "## Application AIC/BIC"
   ]
  },
  {
   "cell_type": "markdown",
   "metadata": {},
   "source": [
    "You are going apply the criterias on several datasets."
   ]
  },
  {
   "cell_type": "markdown",
   "metadata": {},
   "source": [
    "## Clustering\n",
    "\n",
    "AIC and BIC can help to estimate the number of clusters when EM algorithm is used (because it's a probabilistic model.) \n"
   ]
  },
  {
   "cell_type": "code",
   "execution_count": 2,
   "metadata": {},
   "outputs": [],
   "source": [
    "from sklearn.datasets import load_wine\n",
    "wine = load_wine()\n",
    "X = wine.data\n",
    "from sklearn.mixture import GaussianMixture"
   ]
  },
  {
   "cell_type": "markdown",
   "metadata": {},
   "source": [
    "### Task : \n",
    "- Apply GaussianMixture model using different number of mixture. \n",
    "- Choose the number of mixtures with the BIC/AIC.\n",
    "\n",
    "Use the .bic(X) and the .aic(X) method already implemented in sklearn"
   ]
  },
  {
   "cell_type": "code",
   "execution_count": 5,
   "metadata": {
    "scrolled": false
   },
   "outputs": [],
   "source": [
    "k_max = 50\n",
    "bics = []\n",
    "aics = []\n",
    "for k in range(1,k_max):\n",
    "    aics.append(-GaussianMixture(n_components=k, random_state=0).fit(X).aic(X)) \n",
    "    # we take minus bic value according to https://scikit-learn.org/stable/auto_examples/mixture/plot_gmm_selection.html\n",
    "    # we can tak plus value and maximize it but we want to follow bic introduced in theoretical questions\n",
    "    bics.append(-GaussianMixture(n_components=k, random_state=0).fit(X).bic(X))"
   ]
  },
  {
   "cell_type": "code",
   "execution_count": 6,
   "metadata": {},
   "outputs": [
    {
     "data": {
      "image/png": "[encoded data removed]",
      "text/plain": [
       "<Figure size 640x480 with 1 Axes>"
      ]
     },
     "metadata": {
      "needs_background": "light"
     },
     "output_type": "display_data"
    }
   ],
   "source": [
    "figure(figsize=(8, 6), dpi=80)\n",
    "plt.plot(range(1,k_max), aics, label = \"AIC\")\n",
    "plt.plot(range(1,k_max), bics, label = \"BIC\")\n",
    "plt.xlabel('Number of mixture components', fontsize=18)\n",
    "plt.ylabel('Criterion value', fontsize=18)\n",
    "plt.legend()\n",
    "plt.show()"
   ]
  },
  {
   "cell_type": "code",
   "execution_count": 7,
   "metadata": {},
   "outputs": [
    {
     "name": "stdout",
     "output_type": "stream",
     "text": [
      "Lowest AIC is obtained for k equal to 1\n",
      "Lowest BIC is obtained for k equal to 49\n"
     ]
    }
   ],
   "source": [
    "print(f\"Lowest AIC is obtained for k equal to {aics.index(min(aics))+1}\")\n",
    "print(f\"Lowest BIC is obtained for k equal to {bics.index(min(bics))+1}\")"
   ]
  },
  {
   "cell_type": "markdown",
   "metadata": {},
   "source": [
    "Therefore it is reasonable to choose $k=1$ based on AIC or $k$ equal to 49 according to BIC"
   ]
  },
  {
   "cell_type": "markdown",
   "metadata": {},
   "source": [
    "## Classification"
   ]
  },
  {
   "cell_type": "markdown",
   "metadata": {},
   "source": [
    "### Tasks : \n",
    "- Train logistic regression model on the dataset\n",
    "- Compute AIC for this dataset\n"
   ]
  },
  {
   "cell_type": "code",
   "execution_count": 8,
   "metadata": {},
   "outputs": [],
   "source": [
    "from sklearn.datasets import load_wine\n",
    "wine = load_wine()\n",
    "X = wine.data\n",
    "y = wine.target\n",
    "from sklearn.linear_model import LogisticRegression"
   ]
  },
  {
   "cell_type": "code",
   "execution_count": 9,
   "metadata": {},
   "outputs": [],
   "source": [
    "#Need to use different solver than default one so convergence is obtained\n",
    "clf = LogisticRegression(random_state=0,\n",
    "                         solver=\"newton-cg\",\n",
    "                         max_iter=1000).fit(X, y)"
   ]
  },
  {
   "cell_type": "code",
   "execution_count": 10,
   "metadata": {},
   "outputs": [
    {
     "name": "stdout",
     "output_type": "stream",
     "text": [
      "AIC for current model : 77.92820510463353\n",
      "BIC for current model : 6941.928205104634\n"
     ]
    }
   ],
   "source": [
    "from sklearn.metrics import log_loss\n",
    "from math import log\n",
    "\n",
    "# computing AIC by hand accroding to formula given here:\n",
    "# https://en.wikipedia.org/wiki/Akaike_information_criterion\n",
    "# computing BIC by hand accroding to formula given here:\n",
    "# https://en.wikipedia.org/wiki/Bayesian_information_criterion\n",
    "# formulas differ from ones given in lecture by factor = 2 - however conclusions will be the same\n",
    "\n",
    "def AIC(fitted_model,X,y):\n",
    "    y_pred = fitted_model.predict_proba(X)\n",
    "    k = len(fitted_model.coef_.flatten())\n",
    "    AIC = -2 * log_loss(y,y_pred) + 2 * k \n",
    "    return AIC\n",
    "\n",
    "def BIC(fitted_model,X,y):\n",
    "    y_pred = fitted_model.predict_proba(X)\n",
    "    k = len(fitted_model.coef_.flatten())\n",
    "    BIC = -2 * log_loss(y,y_pred) + k * y.size \n",
    "    return BIC\n",
    "\n",
    "print(f\"AIC for current model : {AIC(clf,X,y)}\")\n",
    "print(f\"BIC for current model : {BIC(clf,X,y)}\")"
   ]
  },
  {
   "cell_type": "markdown",
   "metadata": {},
   "source": [
    "### Does it seem to be reasonable to add a polynomial kernel as regards AIC or BIC ? "
   ]
  },
  {
   "cell_type": "code",
   "execution_count": 11,
   "metadata": {},
   "outputs": [],
   "source": [
    "from sklearn.preprocessing import PolynomialFeatures\n",
    "\n",
    "#possible polynomial order\n",
    "p_max = 5\n",
    "aics_lr = []\n",
    "bics_lr = []\n",
    "for k in range(1,p_max):\n",
    "    poly = PolynomialFeatures(k) #degree of kernel, when k = 1 - there is no transformation\n",
    "    X_transformed = poly.fit_transform(X) \n",
    "    clf_kernel = LogisticRegression(random_state=0,\n",
    "                             solver=\"lbfgs\",\n",
    "                             max_iter=10000).fit(X_transformed, y)\n",
    "    aics_lr.append(AIC(clf_kernel,X_transformed,y))\n",
    "    bics_lr.append(BIC(clf_kernel,X_transformed,y))"
   ]
  },
  {
   "cell_type": "code",
   "execution_count": 12,
   "metadata": {},
   "outputs": [
    {
     "data": {
      "image/png": "[encoded data removed]",
      "text/plain": [
       "<Figure size 480x320 with 1 Axes>"
      ]
     },
     "metadata": {
      "needs_background": "light"
     },
     "output_type": "display_data"
    }
   ],
   "source": [
    "figure(figsize=(6, 4), dpi=80)\n",
    "plt.plot(range(1,p_max), aics_lr, label = \"AIC\")\n",
    "plt.xlabel('Polynomial kernel order', fontsize=18)\n",
    "plt.ylabel('Criterion value', fontsize=18)\n",
    "plt.legend()\n",
    "plt.show()"
   ]
  },
  {
   "cell_type": "code",
   "execution_count": 13,
   "metadata": {
    "scrolled": false
   },
   "outputs": [
    {
     "data": {
      "image/png": "[encoded data removed]",
      "text/plain": [
       "<Figure size 480x320 with 1 Axes>"
      ]
     },
     "metadata": {
      "needs_background": "light"
     },
     "output_type": "display_data"
    }
   ],
   "source": [
    "figure(figsize=(6, 4), dpi=80)\n",
    "plt.plot(range(1,p_max), bics_lr, label = \"BIC\")\n",
    "plt.xlabel('Polynomial kernel order', fontsize=18)\n",
    "plt.ylabel('Criterion value', fontsize=18)\n",
    "plt.legend()\n",
    "plt.show()"
   ]
  },
  {
   "cell_type": "markdown",
   "metadata": {},
   "source": [
    "Both criterions - AIC and BIC - has lowest value for kernel order 1, therefore it is not reasonable to add a polynomial kernel to the model"
   ]
  },
  {
   "cell_type": "markdown",
   "metadata": {},
   "source": [
    "### What would the AIC be for LDA model assuming we have the same likelihood than the previous logistic regression ? "
   ]
  },
  {
   "cell_type": "code",
   "execution_count": 96,
   "metadata": {},
   "outputs": [
    {
     "name": "stdout",
     "output_type": "stream",
     "text": [
      "Number of features: 13\n",
      "Number of classes: 3\n",
      "Number of parameters in Logistic regression without kernel : 39\n"
     ]
    }
   ],
   "source": [
    "print(f\"Number of features: {X.shape[1]}\")\n",
    "print(f\"Number of classes: {len(np.unique(y))}\")\n",
    "print(f\"Number of parameters in Logistic regression without kernel : {len(clf.coef_.flatten())}\")"
   ]
  },
  {
   "cell_type": "markdown",
   "metadata": {},
   "source": [
    "AIC formula based on https://en.wikipedia.org/wiki/Akaike_information_criterion\n",
    "$$\n",
    "\\mathrm{AIC}=2 k-2 \\ln (\\hat{L})\n",
    "$$"
   ]
  },
  {
   "cell_type": "markdown",
   "metadata": {},
   "source": [
    "For LDA, $(p+1)$ parameters are needed to construct the discriminant function - where $p$ is the number of features. For a problem with $K$ classes, we would only need $(K-1)$ such discriminant functions by arbitrarily choosing one class to be the base class (subtracting the base class likelihood from all other classes). Hence, the total number of estimated parameters for LDA is $(K-1)(p+1)$. In our case this is equal to $14 \\cdot 2 = 28$. While in Logistic regression without kernel it was $39$. Therefore AIC would be smaller in decribed scenario for LDA. "
   ]
  },
  {
   "cell_type": "markdown",
   "metadata": {},
   "source": [
    "AIC/BIC and cross-validation are mostly used with linear Regression and logisitic regression. AIC/BIC rely on probabilistic caracterics of models in order to compute loglikelihood. \n",
    "\n",
    "Whereas crossvalidation can be applied in every models and give a more realistic vision of the performance of the model.\n",
    "\n",
    "\n",
    "## Real Machine Learning situation\n",
    "\n",
    "Imagine you want to develop and deploy for your job a machine learning algorithm capable of recognizing digits, in order to read automatically bank cheques or bills. \n",
    "The goal of the development phase for a data scientist is to choose the best performing model and also evaluate the most accurately the generalisation error on unseen data i.e the error the algorithm will produce when it will be operational. \n",
    "For instance in our case, an error from your algorithm will cost a certain amount of money, it's mandatory to estimate the potential financial loss induced by your model. \n",
    "\n"
   ]
  },
  {
   "cell_type": "code",
   "execution_count": 14,
   "metadata": {},
   "outputs": [],
   "source": [
    "from sklearn.datasets import load_digits\n",
    "digits = load_digits()\n",
    "\n",
    "X=digits.data\n",
    "y=digits.target"
   ]
  },
  {
   "cell_type": "code",
   "execution_count": 15,
   "metadata": {},
   "outputs": [
    {
     "data": {
      "image/png": "[encoded data removed]",
      "text/plain": [
       "<Figure size 1440x288 with 5 Axes>"
      ]
     },
     "metadata": {
      "needs_background": "light"
     },
     "output_type": "display_data"
    }
   ],
   "source": [
    "import numpy as np \n",
    "import matplotlib.pyplot as plt\n",
    "plt.figure(figsize=(20,4))\n",
    "for index, (image, label) in enumerate(zip(digits.data[0:5], digits.target[0:5])):\n",
    "    plt.subplot(1, 5, index + 1)\n",
    "    plt.imshow(np.reshape(image, (8,8)), cmap=plt.cm.gray)\n",
    "    plt.title('Training: %i\\n' % label, fontsize = 20)"
   ]
  },
  {
   "cell_type": "markdown",
   "metadata": {},
   "source": [
    "### Choose a model with Cross validation \n",
    "Cross validation provides a better estimation of the model's performance on the dataset than split train/test method. It's very useful for selecting the most accurate model. \n"
   ]
  },
  {
   "cell_type": "code",
   "execution_count": 16,
   "metadata": {},
   "outputs": [],
   "source": [
    "from sklearn.model_selection import cross_validate, train_test_split\n",
    "from sklearn.svm import SVC"
   ]
  },
  {
   "cell_type": "markdown",
   "metadata": {},
   "source": [
    "### Tasks : \n",
    "- Apply cross validation to Logistic Regression and SVM, choose a C between 0.01 and 1 to add regularization\n",
    "- Choose the best performing model"
   ]
  },
  {
   "cell_type": "code",
   "execution_count": 17,
   "metadata": {
    "scrolled": true
   },
   "outputs": [],
   "source": [
    "# Doing cross validation on Logistic Regression\n",
    "# possible Cs\n",
    "C_space = np.linspace(0.05,1,20)\n",
    "avg_accuracy_lr = []\n",
    "\n",
    "for c in C_space:\n",
    "    model = LogisticRegression(C = c,\n",
    "                               solver=\"newton-cg\")\n",
    "    cv_result = cross_validate(estimator = model,\n",
    "                               scoring = \"accuracy\",\n",
    "                               X = X,\n",
    "                               y = y,\n",
    "                               cv = 5)\n",
    "    avg_accuracy_lr.append(cv_result['test_score'].mean())"
   ]
  },
  {
   "cell_type": "code",
   "execution_count": 18,
   "metadata": {
    "scrolled": true
   },
   "outputs": [],
   "source": [
    "# Doing cross validation on SVM\n",
    "# possible Cs\n",
    "C_space = np.linspace(0.05,1,20)\n",
    "avg_accuracy_SVM = []\n",
    "\n",
    "for c in C_space:\n",
    "    model = SVC(C = c)\n",
    "    cv_result = cross_validate(estimator = model,\n",
    "                               scoring = \"accuracy\",\n",
    "                               X = X,\n",
    "                               y = y,\n",
    "                               cv = 5)\n",
    "    avg_accuracy_SVM.append(cv_result['test_score'].mean())"
   ]
  },
  {
   "cell_type": "code",
   "execution_count": 19,
   "metadata": {
    "scrolled": false
   },
   "outputs": [
    {
     "data": {
      "image/png": "[encoded data removed]",
      "text/plain": [
       "<Figure size 640x480 with 1 Axes>"
      ]
     },
     "metadata": {
      "needs_background": "light"
     },
     "output_type": "display_data"
    },
    {
     "name": "stdout",
     "output_type": "stream",
     "text": [
      "Highest accuracy for SVM is obtained for C = 0.95\n"
     ]
    }
   ],
   "source": [
    "figure(figsize=(8, 6), dpi=80)\n",
    "plt.plot(C_space, avg_accuracy_lr, label = \"Logistic Regression\")\n",
    "plt.plot(C_space, avg_accuracy_SVM, label = \"SVM\")\n",
    "plt.xlabel('C value', fontsize=18)\n",
    "plt.ylabel('Mean test accuracy', fontsize=18)\n",
    "plt.legend(loc = 3)\n",
    "plt.ylim([.8, 1])\n",
    "plt.show()\n",
    "\n",
    "max_value = max(avg_accuracy_SVM)\n",
    "index = avg_accuracy_SVM.index(max_value)\n",
    "print(f\"Highest accuracy for SVM is obtained for C = {C_space[index]}\")"
   ]
  },
  {
   "cell_type": "markdown",
   "metadata": {},
   "source": [
    "Highest mean accuracy using 5-fold cross validation is obtained for SVM model for C = 0.95. Therefore we can hypothesized that from considered models this is the best one."
   ]
  },
  {
   "cell_type": "markdown",
   "metadata": {},
   "source": [
    "### Estimation of the generalization error"
   ]
  },
  {
   "cell_type": "markdown",
   "metadata": {},
   "source": [
    "As we have choosen our model, we have to evaluate its future performance on unseen data. The most easy way is to use the split train/test method to have a confidence interval based on the performance of the model on the test dataset.\n",
    "\n",
    "One could want to use cross validation for doing this estimation, however the several estimations returned by k fold cross-val don't garentee the independance of the estimations. The independence is needed for confidence intervals. This is why randomized split train/test is used."
   ]
  },
  {
   "cell_type": "markdown",
   "metadata": {},
   "source": [
    "### Tasks : \n",
    "- Split the dataset 50%/50% and fix the random state of the split_train_test\n",
    "- Return the test accuracy with the choosen model"
   ]
  },
  {
   "cell_type": "code",
   "execution_count": 118,
   "metadata": {},
   "outputs": [
    {
     "name": "stdout",
     "output_type": "stream",
     "text": [
      "Accuracy score on test set : 0.9878\n"
     ]
    }
   ],
   "source": [
    "from sklearn.metrics import accuracy_score\n",
    "\n",
    "X_train, X_test, y_train, y_test = train_test_split(X, y, test_size=0.5, random_state=0)\n",
    "C = C_space[index]\n",
    "model = SVC(C = C).fit(X = X_train,\n",
    "                       y = y_train)\n",
    "\n",
    "# calculating test accuracy\n",
    "y_pred = model.predict(X_test)\n",
    "p = accuracy_score(y_pred,y_test)\n",
    "print(f\"Accuracy score on test set : {p:.4f}\")"
   ]
  },
  {
   "cell_type": "markdown",
   "metadata": {},
   "source": [
    "\n",
    "### Confidence intervals\n",
    "Assume that the event to have a right classification with our model follows a bernouilli process with paramater p. \n",
    "The accuracy on the test dataset ($\\hat{p}$) gives us an estimation of p. \n",
    "\n",
    "\n",
    "\n",
    "### Task : Make a 99% confidence interval of the real accuracy using Central limit theorem"
   ]
  },
  {
   "cell_type": "markdown",
   "metadata": {},
   "source": [
    "Let $X_1, X_2, ... X_n$ be a sequence of i.i.d. random variables that follow bernoulli distribiution with parameter $p$. Then $\\mathbb {E} [X_{i}]=p$ and $\\operatorname {Var} [X_{i}]=\\sigma ^{2} = p(1-p)<\\infty$. Each random variable represents an\n",
    "event, that if observation $i$ has a right classification with our model it equals to 1, and 0 otherwise. Therefore by central limit theorem as $n$ goes to infinity the empirical mean:\n",
    "$$\n",
    "\\hat{p}=\\bar{X}_n \\equiv \\frac{X_1+\\cdots+X_n}{n}\n",
    "$$\n",
    "converges in distribiution to $\\mathcal{N}\\left(p, \\frac{\\sigma^2}{n}\\right)$. In other words:\n",
    "$$\n",
    "Z=\\frac{\\hat{p}-p}{\\sqrt{\\hat{p}(1-\\hat{p})} / \\sqrt{n}} \\sim N(0,1)\n",
    "$$\n",
    "\n",
    "We can find 99% confidence interval by finding $t$ s.t\n",
    "$$\n",
    "\\mathbb{P}(|Z|<t)=99\\%\n",
    "$$\n",
    "and by looking at\n",
    "$$\n",
    "\\mathbb{P}(\\hat{p}-t\\cdot\\sqrt{\\hat{p}(1-\\hat{p})} / \\sqrt{n}< p <\\hat{p} + t \\cdot \\sqrt{\\hat{p}(1-\\hat{p})} / \\sqrt{n})=99\\%\n",
    "$$"
   ]
  },
  {
   "cell_type": "code",
   "execution_count": 119,
   "metadata": {},
   "outputs": [
    {
     "name": "stdout",
     "output_type": "stream",
     "text": [
      "Lower bound of interval 0.9783196520553554\n",
      "Upper bound of interval 0.9972087127944778\n"
     ]
    }
   ],
   "source": [
    "from scipy.stats import norm\n",
    "alpha = 0.01\n",
    "t = norm.ppf(1-alpha/2)\n",
    "n = y_test.size\n",
    "\n",
    "print(f\"Lower bound of interval {p-t*(p*(1-p)/n)**(1/2)}\")\n",
    "print(f\"Upper bound of interval {p+t*(p*(1-p)/n)**(1/2)}\")"
   ]
  },
  {
   "cell_type": "markdown",
   "metadata": {},
   "source": [
    "### Hoeffding inequality \n",
    "\n",
    "A non negligeable inequality for constituting confidence interval for large dataset is Hoeffding inequality which is often tighter than CLT inequality for very large dataset (our dataset is maybe not large enough)\n",
    "\n",
    "Hoeffding’s inequality: Suppose that $\\{Z_1, . . . , Z_n\\}$ are independent and that, $a ≤ Z_i ≤ b$, and $E[Z_i]=z$. Then for any $t>0$,\n",
    "\n",
    "$$ P(|\\hat{Z} - z|\\ge t) \\le 2\\exp \\left(-\\frac{2nt^2}{(b-a)^2} \\right)$$ \n",
    "With $\\hat{Z} = \\frac{1}{n} \\sum_{i=1}^n Z_i $\n",
    "\n",
    "Apply this inequality to the test accuracy $\\hat{p}$ in order to have a 99% confidence interval\n"
   ]
  },
  {
   "cell_type": "markdown",
   "metadata": {},
   "source": [
    "Above inequality was corrected based on \n",
    "\n",
    "https://en.wikipedia.org/wiki/Hoeffding%27s_inequality"
   ]
  },
  {
   "cell_type": "markdown",
   "metadata": {},
   "source": [
    "If we let $X_1, \\ldots, X_n \\stackrel{\\text { i.i.d. }}{\\sim}$ Bernoulli $(p)$, then since $X_i \\in[0,1]$ for each $i$ Hoeffding's inequality says that\n",
    "$$\n",
    "P(|\\bar{X}-p| \\geq t) \\leq 2 e^{-2 n t^2}\n",
    "$$\n",
    "or\n",
    "$$\n",
    "P(|\\bar{X}-p|<t) \\geq 1-2 e^{-2 n t^2} .\n",
    "$$\n",
    "If we want a $99 \\%$ confidence interval , we can equate the right hand side to $0.99$ and solve for $t$ to get\n",
    "$$\n",
    "t=\\sqrt{-\\frac{1}{2 n} \\log (\\frac{0.01}{2})} .\n",
    "$$\n",
    "Rewriting the inequality above after plugging in this value of $t$ we have\n",
    "$$\n",
    "P\\left(\\bar{X}-\\sqrt{-\\frac{1}{2 n} \\log (\\frac{0.01}{2})}<p<\\bar{X}+\\sqrt{-\\frac{1}{2 n} \\log (\\frac{0.01}{2})}\\right) \\geq 0.99\n",
    "$$\n",
    "and so these values can be the endpoints of a $\\mathbf{99 \\%}$ confidence interval for $p$.\n"
   ]
  },
  {
   "cell_type": "code",
   "execution_count": 120,
   "metadata": {},
   "outputs": [
    {
     "name": "stdout",
     "output_type": "stream",
     "text": [
      "Lower bound of interval 0.9334798950816839\n",
      "Upper bound of interval 1.0420484697681491\n"
     ]
    }
   ],
   "source": [
    "import math   \n",
    "\n",
    "alpha = 0.01\n",
    "n = y_test.size\n",
    "const = (-1/(2*n) * math.log(alpha/2)) ** (1/2)\n",
    "\n",
    "print(f\"Lower bound of interval {p-const}\")\n",
    "print(f\"Upper bound of interval {p+const}\")"
   ]
  },
  {
   "cell_type": "markdown",
   "metadata": {},
   "source": [
    "Of course $p$ can not be higher than $1$ so final endpoints are $\\approx0.93$ and $1$. This results in wider interval that for interval obtained from CLT which probably comes from fact that dataset size is not big enough. "
   ]
  }
 ],
 "metadata": {
  "kernelspec": {
   "display_name": "Python 3 (ipykernel)",
   "language": "python",
   "name": "python3"
  },
  "language_info": {
   "codemirror_mode": {
    "name": "ipython",
    "version": 3
   },
   "file_extension": ".py",
   "mimetype": "text/x-python",
   "name": "python",
   "nbconvert_exporter": "python",
   "pygments_lexer": "ipython3",
   "version": "3.9.7"
  }
 },
 "nbformat": 4,
 "nbformat_minor": 2
}
